{
 "cells": [
  {
   "cell_type": "code",
   "execution_count": null,
   "id": "e5283f34",
   "metadata": {},
   "outputs": [],
   "source": [
    "# packages\n",
    "import pandas as pd\n",
    "import pyodbc\n"
   ]
  },
  {
   "cell_type": "code",
   "execution_count": 3,
   "id": "787f8143",
   "metadata": {},
   "outputs": [],
   "source": [
    "senha = r\"55q%oE16n2^a\"\n",
    "connectionString = (    \n",
    "    \"DRIVER={ODBC Driver 18 for SQL Server};\"\n",
    "    \"SERVER=10.237.4.188;\"\n",
    "    \"DATABASE=SBOBoltinox;\"\n",
    "    \"UID=sa;\"\n",
    "    f\"PWD={senha};\"\n",
    "    \"Encrypt=no;\"\n",
    "    \"TrustServerCertificate=yes;\"\n",
    ")\n"
   ]
  },
  {
   "cell_type": "code",
   "execution_count": 7,
   "id": "dae9df75",
   "metadata": {},
   "outputs": [],
   "source": [
    "# armazena a query em uma var\n",
    "with open(\"../queries/rev_report.sql\", \"r\", encoding=\"utf-8\") as f:\n",
    "    query = f.read()"
   ]
  },
  {
   "cell_type": "code",
   "execution_count": 8,
   "id": "ac0b8d9c",
   "metadata": {},
   "outputs": [
    {
     "name": "stderr",
     "output_type": "stream",
     "text": [
      "C:\\Users\\rodri\\AppData\\Local\\Temp\\ipykernel_17840\\3309215763.py:2: UserWarning: pandas only supports SQLAlchemy connectable (engine/connection) or database string URI or sqlite3 DBAPI2 connection. Other DBAPI2 objects are not tested. Please consider using SQLAlchemy.\n",
      "  df = pd.read_sql(query, conn)\n"
     ]
    }
   ],
   "source": [
    "with pyodbc.connect(connectionString) as conn:\n",
    "    df = pd.read_sql(query, conn)"
   ]
  },
  {
   "cell_type": "code",
   "execution_count": 9,
   "id": "abd65a82",
   "metadata": {},
   "outputs": [
    {
     "data": {
      "text/html": [
       "<div>\n",
       "<style scoped>\n",
       "    .dataframe tbody tr th:only-of-type {\n",
       "        vertical-align: middle;\n",
       "    }\n",
       "\n",
       "    .dataframe tbody tr th {\n",
       "        vertical-align: top;\n",
       "    }\n",
       "\n",
       "    .dataframe thead th {\n",
       "        text-align: right;\n",
       "    }\n",
       "</style>\n",
       "<table border=\"1\" class=\"dataframe\">\n",
       "  <thead>\n",
       "    <tr style=\"text-align: right;\">\n",
       "      <th></th>\n",
       "      <th>Nº documento</th>\n",
       "      <th>Data de entrega</th>\n",
       "      <th>Data do documento</th>\n",
       "      <th>Cliente</th>\n",
       "      <th>Utilização</th>\n",
       "      <th>Total em ctos</th>\n",
       "      <th>Total sem imposto</th>\n",
       "      <th>Total com imposto</th>\n",
       "      <th>Frete</th>\n",
       "      <th>Total com frete incluso</th>\n",
       "    </tr>\n",
       "  </thead>\n",
       "  <tbody>\n",
       "    <tr>\n",
       "      <th>0</th>\n",
       "      <td>63231</td>\n",
       "      <td>2025-09-22</td>\n",
       "      <td>2025-06-17</td>\n",
       "      <td>SEVILHA CONSTRUTORA LTDA</td>\n",
       "      <td>S-Venda</td>\n",
       "      <td>10.0</td>\n",
       "      <td>360.0</td>\n",
       "      <td>383.40</td>\n",
       "      <td>0.0</td>\n",
       "      <td>383.40</td>\n",
       "    </tr>\n",
       "    <tr>\n",
       "      <th>1</th>\n",
       "      <td>63234</td>\n",
       "      <td>2025-07-04</td>\n",
       "      <td>2025-06-18</td>\n",
       "      <td>ALUNOBRE INDUSTRIA E COMERCIO DE ESQUADRIAS LI...</td>\n",
       "      <td>S-Rem a Ordem Futura</td>\n",
       "      <td>5.0</td>\n",
       "      <td>0.0</td>\n",
       "      <td>0.00</td>\n",
       "      <td>0.0</td>\n",
       "      <td>0.00</td>\n",
       "    </tr>\n",
       "    <tr>\n",
       "      <th>2</th>\n",
       "      <td>63253</td>\n",
       "      <td>2025-08-30</td>\n",
       "      <td>2025-06-20</td>\n",
       "      <td>PORTICO ESQUADRIAS LTDA</td>\n",
       "      <td>S-Venda</td>\n",
       "      <td>11.0</td>\n",
       "      <td>110.0</td>\n",
       "      <td>117.15</td>\n",
       "      <td>0.0</td>\n",
       "      <td>117.15</td>\n",
       "    </tr>\n",
       "    <tr>\n",
       "      <th>3</th>\n",
       "      <td>63281</td>\n",
       "      <td>2025-09-23</td>\n",
       "      <td>2025-06-23</td>\n",
       "      <td>CONCEITO ALUMINIO NORDESTE LTDA.</td>\n",
       "      <td>S-Venda ST</td>\n",
       "      <td>220.0</td>\n",
       "      <td>3490.0</td>\n",
       "      <td>4966.59</td>\n",
       "      <td>0.0</td>\n",
       "      <td>4966.59</td>\n",
       "    </tr>\n",
       "    <tr>\n",
       "      <th>4</th>\n",
       "      <td>63377</td>\n",
       "      <td>2025-08-25</td>\n",
       "      <td>2025-07-01</td>\n",
       "      <td>ITAUNA - ESQUADRIAS LTDA</td>\n",
       "      <td>S-Rem a Ordem Futura</td>\n",
       "      <td>7.0</td>\n",
       "      <td>0.0</td>\n",
       "      <td>0.00</td>\n",
       "      <td>0.0</td>\n",
       "      <td>0.00</td>\n",
       "    </tr>\n",
       "  </tbody>\n",
       "</table>\n",
       "</div>"
      ],
      "text/plain": [
       "   Nº documento Data de entrega Data do documento  \\\n",
       "0         63231      2025-09-22        2025-06-17   \n",
       "1         63234      2025-07-04        2025-06-18   \n",
       "2         63253      2025-08-30        2025-06-20   \n",
       "3         63281      2025-09-23        2025-06-23   \n",
       "4         63377      2025-08-25        2025-07-01   \n",
       "\n",
       "                                             Cliente            Utilização  \\\n",
       "0                           SEVILHA CONSTRUTORA LTDA               S-Venda   \n",
       "1  ALUNOBRE INDUSTRIA E COMERCIO DE ESQUADRIAS LI...  S-Rem a Ordem Futura   \n",
       "2                            PORTICO ESQUADRIAS LTDA               S-Venda   \n",
       "3                   CONCEITO ALUMINIO NORDESTE LTDA.            S-Venda ST   \n",
       "4                           ITAUNA - ESQUADRIAS LTDA  S-Rem a Ordem Futura   \n",
       "\n",
       "   Total em ctos  Total sem imposto  Total com imposto  Frete  \\\n",
       "0           10.0              360.0             383.40    0.0   \n",
       "1            5.0                0.0               0.00    0.0   \n",
       "2           11.0              110.0             117.15    0.0   \n",
       "3          220.0             3490.0            4966.59    0.0   \n",
       "4            7.0                0.0               0.00    0.0   \n",
       "\n",
       "   Total com frete incluso  \n",
       "0                   383.40  \n",
       "1                     0.00  \n",
       "2                   117.15  \n",
       "3                  4966.59  \n",
       "4                     0.00  "
      ]
     },
     "execution_count": 9,
     "metadata": {},
     "output_type": "execute_result"
    }
   ],
   "source": [
    "df.head()"
   ]
  },
  {
   "cell_type": "code",
   "execution_count": 10,
   "id": "61fbcc73",
   "metadata": {},
   "outputs": [
    {
     "name": "stdout",
     "output_type": "stream",
     "text": [
      "Nº documento                        int64\n",
      "Data de entrega            datetime64[ns]\n",
      "Data do documento          datetime64[ns]\n",
      "Cliente                            object\n",
      "Utilização                         object\n",
      "Total em ctos                     float64\n",
      "Total sem imposto                 float64\n",
      "Total com imposto                 float64\n",
      "Frete                             float64\n",
      "Total com frete incluso           float64\n",
      "dtype: object\n"
     ]
    }
   ],
   "source": [
    "print(df.dtypes)"
   ]
  },
  {
   "cell_type": "code",
   "execution_count": null,
   "id": "fcdba8c3",
   "metadata": {},
   "outputs": [],
   "source": []
  }
 ],
 "metadata": {
  "kernelspec": {
   "display_name": ".venv (3.11.9)",
   "language": "python",
   "name": "python3"
  },
  "language_info": {
   "codemirror_mode": {
    "name": "ipython",
    "version": 3
   },
   "file_extension": ".py",
   "mimetype": "text/x-python",
   "name": "python",
   "nbconvert_exporter": "python",
   "pygments_lexer": "ipython3",
   "version": "3.11.9"
  }
 },
 "nbformat": 4,
 "nbformat_minor": 5
}
